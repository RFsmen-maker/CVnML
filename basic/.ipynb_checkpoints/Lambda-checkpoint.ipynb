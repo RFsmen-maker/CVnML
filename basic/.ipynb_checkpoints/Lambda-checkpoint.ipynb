{
 "cells": [
  {
   "cell_type": "code",
   "execution_count": 1,
   "id": "39cc065f",
   "metadata": {},
   "outputs": [
    {
     "data": {
      "text/plain": [
       "16"
      ]
     },
     "execution_count": 1,
     "metadata": {},
     "output_type": "execute_result"
    }
   ],
   "source": [
    "def f(x):\n",
    "    return x * x\n",
    "f(4)"
   ]
  },
  {
   "cell_type": "code",
   "execution_count": 2,
   "id": "7971ed21",
   "metadata": {},
   "outputs": [
    {
     "data": {
      "text/plain": [
       "16"
      ]
     },
     "execution_count": 2,
     "metadata": {},
     "output_type": "execute_result"
    }
   ],
   "source": [
    "f = lambda x: x * x\n",
    "f(4)"
   ]
  },
  {
   "cell_type": "code",
   "execution_count": 3,
   "id": "78536f42",
   "metadata": {},
   "outputs": [
    {
     "data": {
      "text/plain": [
       "3"
      ]
     },
     "execution_count": 3,
     "metadata": {},
     "output_type": "execute_result"
    }
   ],
   "source": [
    "def g(x, y):\n",
    "    return x + y\n",
    "g(1, 2)"
   ]
  },
  {
   "cell_type": "code",
   "execution_count": 5,
   "id": "8fbc684d",
   "metadata": {},
   "outputs": [
    {
     "data": {
      "text/plain": [
       "3"
      ]
     },
     "execution_count": 5,
     "metadata": {},
     "output_type": "execute_result"
    }
   ],
   "source": [
    "g = lambda x, y: x + y\n",
    "g(1, 2)"
   ]
  },
  {
   "cell_type": "code",
   "execution_count": 11,
   "id": "787702fc",
   "metadata": {},
   "outputs": [
    {
     "name": "stdout",
     "output_type": "stream",
     "text": [
      "('China', 'Beijing', 12354124)\n",
      "('America', 'Washinton', 3123533)\n"
     ]
    }
   ],
   "source": [
    "countries = []\n",
    "file = open(\"basicData.csv\", \"r\")\n",
    "for line in file: # 国家、洲、首都、人口\n",
    "    line = line.strip() # 前后空格删除\n",
    "    arr = line.split(\",\") # 根据 ',' 切分\n",
    "    name = arr[0]\n",
    "    capt = arr[2]\n",
    "    popu = int(arr[3])\n",
    "    countries.append( (name, capt, popu) )\n",
    "\n",
    "for country in countries:\n",
    "    print(country)"
   ]
  },
  {
   "cell_type": "code",
   "execution_count": 14,
   "id": "e5d9ca7a",
   "metadata": {},
   "outputs": [
    {
     "name": "stdout",
     "output_type": "stream",
     "text": [
      "[('America', 'Washinton', 3123533), ('China', 'Beijing', 12354124)]\n"
     ]
    }
   ],
   "source": [
    "def get_population(country):\n",
    "    return country[2]\n",
    "\n",
    "countries.sort(key = get_population)\n",
    "print(countries)"
   ]
  },
  {
   "cell_type": "code",
   "execution_count": 17,
   "id": "d077f8c9",
   "metadata": {},
   "outputs": [
    {
     "name": "stdout",
     "output_type": "stream",
     "text": [
      "[('America', 'Washinton', 3123533), ('China', 'Beijing', 12354124)]\n"
     ]
    }
   ],
   "source": [
    "countries.sort(key = lambda country: country[2])\n",
    "print(countries)"
   ]
  },
  {
   "cell_type": "markdown",
   "id": "20d46050",
   "metadata": {},
   "source": [
    "$$\n",
    "f(x) = ax^2 + bx + c\n",
    "$$"
   ]
  },
  {
   "cell_type": "code",
   "execution_count": 18,
   "id": "7dff1e88",
   "metadata": {},
   "outputs": [],
   "source": [
    "def quadratic(a, b, c):\n",
    "    return lambda x: a*x*x + b*x + c"
   ]
  },
  {
   "cell_type": "markdown",
   "id": "91d1e9d4",
   "metadata": {},
   "source": [
    "$$\n",
    "f(x) = x^2 - x + 2\n",
    "$$"
   ]
  },
  {
   "cell_type": "code",
   "execution_count": 19,
   "id": "5429bdd4",
   "metadata": {},
   "outputs": [
    {
     "name": "stdout",
     "output_type": "stream",
     "text": [
      "22\n"
     ]
    }
   ],
   "source": [
    "f = quadratic(1, -1, 2)\n",
    "print(f(5))"
   ]
  },
  {
   "cell_type": "code",
   "execution_count": 20,
   "id": "770df268",
   "metadata": {},
   "outputs": [
    {
     "name": "stdout",
     "output_type": "stream",
     "text": [
      "22\n"
     ]
    }
   ],
   "source": [
    "print( quadratic(1, -1, 2)(5) )"
   ]
  }
 ],
 "metadata": {
  "kernelspec": {
   "display_name": "Python 3 (ipykernel)",
   "language": "python",
   "name": "python3"
  },
  "language_info": {
   "codemirror_mode": {
    "name": "ipython",
    "version": 3
   },
   "file_extension": ".py",
   "mimetype": "text/x-python",
   "name": "python",
   "nbconvert_exporter": "python",
   "pygments_lexer": "ipython3",
   "version": "3.10.4"
  }
 },
 "nbformat": 4,
 "nbformat_minor": 5
}
