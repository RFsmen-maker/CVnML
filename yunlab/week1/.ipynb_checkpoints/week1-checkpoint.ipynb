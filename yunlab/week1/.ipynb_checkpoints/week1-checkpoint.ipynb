{
 "cells": [
  {
   "cell_type": "markdown",
   "id": "010e61ae",
   "metadata": {},
   "source": [
    "第一周\n",
    "================================\n",
    "\n",
    "# 图像采样和量化\n",
    "&emsp;&emsp;一幅图像可以定义为一个二维函数 $f(x,y)$，其中 $x$ 和 $y$ 是空间（平面）坐标，一般以左上角为原点，垂直向下方向为 $x$ 轴，以水平向右为 $y$ 轴，任何坐标在 $(x,y)$ 处的幅度 $f$ 称为在这一点的**亮度**或**灰度**。  \n",
    "* **灰度级（Gray Scale）**：单色图像的亮度。\n",
    "* **通道（Channel）**：彩色图像的 RBG 原色（分量）。  \n",
    "&emsp;&emsp;为单色图像开发的技术也可以拓展到彩色图像。  \n",
    "\n",
    "&emsp;&emsp;物体图像的空间坐标和亮度都是**连续**的，要将图像转换为数字形式，要进行**离散化（discrtization）**，分为两步：  \n",
    "* **采样（Sampling）**：坐标值数字化。  \n",
    "* **量化（Quantization）**：幅度值数字化。  \n",
    "&emsp;&emsp;当 $x, y, f$ 都是有限的离散量时，该图像为**数字图像**。\n",
    "\n",
    "* 空间分辨率：图像中最小可辩别细度的测度。\n",
    "* 灰度分辨率：灰度级中可分辨的最小变化。灰度级数不足会导致”伪轮廓“\n",
    "&emsp;&emsp;细节丰富的图像只需要较少的灰度级，因为增大了对比度\n",
    "\n",
    "* 邻接：\n",
    "* 连通：\n",
    "* 区域：\n",
    "* 边界：\n",
    "\n",
    "* 线性运算：\n",
    "* 非线性运算："
   ]
  },
  {
   "cell_type": "code",
   "execution_count": null,
   "id": "da48d466",
   "metadata": {},
   "outputs": [],
   "source": [
    "# 几何空间变换\n"
   ]
  }
 ],
 "metadata": {
  "kernelspec": {
   "display_name": "Python 3 (ipykernel)",
   "language": "python",
   "name": "python3"
  },
  "language_info": {
   "codemirror_mode": {
    "name": "ipython",
    "version": 3
   },
   "file_extension": ".py",
   "mimetype": "text/x-python",
   "name": "python",
   "nbconvert_exporter": "python",
   "pygments_lexer": "ipython3",
   "version": "3.10.4"
  }
 },
 "nbformat": 4,
 "nbformat_minor": 5
}
