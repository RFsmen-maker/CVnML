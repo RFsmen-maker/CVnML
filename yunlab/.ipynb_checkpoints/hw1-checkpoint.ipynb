{
 "cells": [
  {
   "cell_type": "code",
   "execution_count": null,
   "id": "b08984f5",
   "metadata": {},
   "outputs": [],
   "source": [
    "import torch\n",
    "import numpy as np"
   ]
  },
  {
   "cell_type": "code",
   "execution_count": null,
   "id": "5f02ffaa",
   "metadata": {},
   "outputs": [],
   "source": [
    "def tofloat(str):\n",
    "    try:\n",
    "        num = float(str)\n",
    "    except:\n",
    "        num = 0\n",
    "    return num\n",
    "\n",
    "\n",
    "train_file = open(\"data/train.csv\", 'r', encoding='big5')  # 已知编码格式为 big5\n",
    "next(train_file)  # 掐头\n",
    "train_data = []\n",
    "for line in train_file:\n",
    "    cur_line = list(map((line.strip().split(','))[3:], ))\n",
    "    train_data.append(list(map(tofloat)))\n",
    "print(train_data)\n",
    "data.close()"
   ]
  }
 ],
 "metadata": {
  "kernelspec": {
   "display_name": "Python 3 (ipykernel)",
   "language": "python",
   "name": "python3"
  },
  "language_info": {
   "codemirror_mode": {
    "name": "ipython",
    "version": 3
   },
   "file_extension": ".py",
   "mimetype": "text/x-python",
   "name": "python",
   "nbconvert_exporter": "python",
   "pygments_lexer": "ipython3",
   "version": "3.10.4"
  }
 },
 "nbformat": 4,
 "nbformat_minor": 5
}
