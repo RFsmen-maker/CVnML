{
 "cells": [
  {
   "cell_type": "markdown",
   "id": "4ce11132",
   "metadata": {},
   "source": [
    "2022 级周学习记录报告\n",
    "===================================\n",
    "\n",
    "<font face='宋体' size = 20>\n",
    "<table>\n",
    "    <tr>\n",
    "        <td><p align='left'>时间：2022.07.18 - 2022.07.24</p></td>\n",
    "        <td><p align='left'>报告人：姜伟鹏</p></td>\n",
    "    </tr>\n",
    "    <tr>\n",
    "        <td><p align='left'>审阅人：陈熠金</p></td>\n",
    "        <td><p align='left'>导师：梁 云</p></td>\n",
    "    </tr>\n",
    "    <tr>\n",
    "        <td><p align='left'>月计划：  \n",
    "\n",
    "（1） 完成数字图像处理学习与 python 代码实践；  \n",
    "（2） 完成机器学习方面基础理论学习与基本实践；  \n",
    "（3） 在 Ubuntu 系统使用 pytorch 进行简单的机器学习算法的验证；  \n",
    "（4） 分步实现如下：  \n",
    "第一周：数字图像的数据表示、边缘计算等；机器学习基本概念、计算机实验环境配置；  \n",
    "第二周：图像修复、噪声处理等；线性回归、误差处理；  \n",
    "第三周：图像分割相关理论；Gradient Descent；  \n",
    "第四周：图像偏微分运算相关理论；深度学习优化方法；  \n",
    "        </p></td>\n",
    "        <td><p align='left'>本周环节：  \n",
    "\n",
    "（1） \n",
    "（2）   \n",
    "（3） \n",
    "下周计划：继续学习下一周的基础理论；  \n",
    "        </p></td>\n",
    "    </tr>\n",
    "</table>\n",
    "</font>\n",
    "\n",
    "所有资料、文件都在：\n",
    "[我的 Github](https://github.com/RFsmen-maker/CVnML \"Github: https://github.com/RFsmen-maker/CVnML\") \n",
    "和\n",
    "[国内镜像仓库](https://rfsmen.coding.net/p/cvnml \"CODING: https://rfsmen.coding.net/p/cvnml\")"
   ]
  },
  {
   "cell_type": "code",
   "execution_count": null,
   "id": "8e6bbbee",
   "metadata": {},
   "outputs": [],
   "source": []
  },
  {
   "cell_type": "code",
   "execution_count": null,
   "id": "f661b14e",
   "metadata": {},
   "outputs": [],
   "source": []
  },
  {
   "cell_type": "code",
   "execution_count": null,
   "id": "3f8983e6",
   "metadata": {},
   "outputs": [],
   "source": []
  },
  {
   "cell_type": "code",
   "execution_count": null,
   "id": "706199c3",
   "metadata": {},
   "outputs": [],
   "source": []
  },
  {
   "cell_type": "code",
   "execution_count": null,
   "id": "2a81eae2",
   "metadata": {},
   "outputs": [],
   "source": []
  },
  {
   "cell_type": "markdown",
   "id": "cdb2fa46",
   "metadata": {},
   "source": [
    "Reference:   \n",
    "================================================  \n",
    "<font face=\"Times New Roman\">\n",
    "\n",
    "Gonzalez, C., Woods, E. (2020) *Digital Image Processing*, Fourth Edition, Beijing, Electronics Industry  \n",
    "Aston Zhang and Zachary C. Lipton and Mu Li and Alexander J. Smola (2020) *Dive into Deep Learning* [online]. Available from: http://www.d2l.ai [Accessed: 18th July 2022].  \n",
    "\n",
    "<font>"
   ]
  }
 ],
 "metadata": {
  "kernelspec": {
   "display_name": "Python 3 (ipykernel)",
   "language": "python",
   "name": "python3"
  },
  "language_info": {
   "codemirror_mode": {
    "name": "ipython",
    "version": 3
   },
   "file_extension": ".py",
   "mimetype": "text/x-python",
   "name": "python",
   "nbconvert_exporter": "python",
   "pygments_lexer": "ipython3",
   "version": "3.10.4"
  }
 },
 "nbformat": 4,
 "nbformat_minor": 5
}
